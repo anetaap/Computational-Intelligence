{
 "cells": [
  {
   "cell_type": "code",
   "execution_count": 1,
   "metadata": {
    "colab": {
     "base_uri": "https://localhost:8080/"
    },
    "id": "L8hfWHj2IcgV",
    "outputId": "381235b4-1037-4a4b-9d5d-4c8bf3210f58"
   },
   "outputs": [
    {
     "name": "stdout",
     "output_type": "stream",
     "text": [
      "Collecting easyAI\r\n",
      "  Downloading easyAI-2.0.12-py3-none-any.whl (42 kB)\r\n",
      "\u001B[2K     \u001B[90m━━━━━━━━━━━━━━━━━━━━━━━━━━━━━━━━━━━━━━━\u001B[0m \u001B[32m42.2/42.2 kB\u001B[0m \u001B[31m950.1 kB/s\u001B[0m eta \u001B[36m0:00:00\u001B[0m\r\n",
      "\u001B[?25hCollecting numpy\r\n",
      "  Using cached numpy-1.24.2-cp310-cp310-macosx_11_0_arm64.whl (13.9 MB)\r\n",
      "Installing collected packages: numpy, easyAI\r\n",
      "Successfully installed easyAI-2.0.12 numpy-1.24.2\r\n"
     ]
    }
   ],
   "source": [
    "!pip install easyAI"
   ]
  },
  {
   "cell_type": "code",
   "execution_count": null,
   "metadata": {
    "colab": {
     "base_uri": "https://localhost:8080/"
    },
    "id": "mM4EgRLIJusr",
    "outputId": "ded73f7d-ebfb-48b4-8c88-1453f33bda2d"
   },
   "outputs": [
    {
     "name": "stdout",
     "output_type": "stream",
     "text": [
      "Current board: \n",
      "[' ', ' ', ' ']\n",
      "[' ', ' ', ' ']\n",
      "[' ', ' ', ' ']\n",
      "\n",
      "Player 1 what do you play ? X\n",
      "\n",
      "Player 1 what do you play ? O\n",
      "\n",
      "Player 1 what do you play ? 1\n"
     ]
    }
   ],
   "source": [
    "from easyAI import TwoPlayerGame, Human_Player, AI_Player, Negamax\n",
    "\n",
    "class Board:\n",
    "    def __init__(self):\n",
    "        # start with en empty board\n",
    "        self.state = [[' ', ' ', ' '], [' ', ' ', ' '], [' ', ' ', ' ']]\n",
    "\n",
    "    def show(self):\n",
    "        print(\"Current board: \")\n",
    "        for i in range(3):\n",
    "            print(self.state[i])\n",
    "\n",
    "\n",
    "class TicTacToe(TwoPlayerGame):\n",
    "    \"\"\"\n",
    "    In turn, the players leave their mark ('X' or 'O') on a 3x3 board.\n",
    "    The player who places three of their symbols in a row, column or diagonal\n",
    "    wins.\n",
    "    \"\"\"\n",
    "\n",
    "    def __init__(self, players):\n",
    "        self.players = players\n",
    "        self.board = Board()\n",
    "        self.current_player = 1  # player 1 starts\n",
    "\n",
    "    def player_mark(self, nplayer):\n",
    "        if nplayer == 1:\n",
    "            return 'X'\n",
    "        else:\n",
    "            return 'O'\n",
    "\n",
    "    def possible_moves(self):\n",
    "        moves = []\n",
    "        for i in range(3):\n",
    "            for j in range(3):\n",
    "                if self.board.state[i][j] == ' ':\n",
    "                    moves.append((i, j))\n",
    "        print(self.board, moves)\n",
    "        return moves\n",
    "\n",
    "    def make_move(self, move):\n",
    "        self.board.state[move[0]][move[1]] = self.player_mark(self.current_player)\n",
    "\n",
    "    def winner(self):\n",
    "        for p in range(1, 3):\n",
    "            # Do we have three same symbols in a row?\n",
    "            cur_symbol = self.player_mark(p)\n",
    "            for i in range(3):\n",
    "                all_in_row = True\n",
    "                for j in range(3):\n",
    "                    if self.board.state[i][j] != cur_symbol:\n",
    "                        all_in_row = False\n",
    "                if all_in_row:\n",
    "                    return p  # p won\n",
    "\n",
    "            # Do we have three same symbols in a column?\n",
    "            for i in range(3):\n",
    "                all_in_col = True\n",
    "                for j in range(3):\n",
    "                    if self.board.state[j][i] != cur_symbol:\n",
    "                        all_in_col = False\n",
    "                if all_in_col:\n",
    "                    return p  # p won\n",
    "\n",
    "            # Do we have three same symbols in a diagonal?\n",
    "            all_in_l_diag = True\n",
    "            for j in range(3):\n",
    "                if self.board.state[j][j] != cur_symbol:\n",
    "                    all_in_l_diag = False\n",
    "            if all_in_l_diag:\n",
    "                return p  # p won\n",
    "\n",
    "            all_in_r_diag = True\n",
    "            for j in range(3):\n",
    "                if self.board.state[2 - j][j] != cur_symbol:\n",
    "                    all_in_r_diag = False\n",
    "            if all_in_r_diag:\n",
    "                return p  # p won\n",
    "\n",
    "        return None\n",
    "\n",
    "    def is_over(self):\n",
    "        return (self.possible_moves() == []) or (self.winner() is not None)\n",
    "\n",
    "    def show(self):\n",
    "        self.board.show()\n",
    "\n",
    "    def scoring(self):\n",
    "        won = self.winner()\n",
    "        if won == self.current_player:\n",
    "            return 100\n",
    "        elif won == 3 - self.current_player:\n",
    "            return -100\n",
    "        else:\n",
    "            return 0\n",
    "\n",
    "\n",
    "ai = Negamax(4)  # The AI will think 4 moves in advance\n",
    "game = TicTacToe([Human_Player(), AI_Player(ai)])\n",
    "history = game.play()"
   ]
  },
  {
   "cell_type": "code",
   "execution_count": null,
   "metadata": {},
   "outputs": [],
   "source": []
  }
 ],
 "metadata": {
  "colab": {
   "name": "easyAI.ipynb",
   "provenance": []
  },
  "kernelspec": {
   "display_name": "Python 3 (ipykernel)",
   "language": "python",
   "name": "python3"
  },
  "language_info": {
   "codemirror_mode": {
    "name": "ipython",
    "version": 3
   },
   "file_extension": ".py",
   "mimetype": "text/x-python",
   "name": "python",
   "nbconvert_exporter": "python",
   "pygments_lexer": "ipython3",
   "version": "3.9.13"
  }
 },
 "nbformat": 4,
 "nbformat_minor": 1
}
